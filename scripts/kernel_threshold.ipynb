{
 "cells": [
  {
   "cell_type": "code",
   "execution_count": 1,
   "metadata": {
    "collapsed": true,
    "ExecuteTime": {
     "end_time": "2023-06-07T05:17:09.539938699Z",
     "start_time": "2023-06-07T05:17:07.634303973Z"
    }
   },
   "outputs": [],
   "source": [
    "# imports\n",
    "import pandas as pd\n",
    "from sklearn.neighbors import KernelDensity\n",
    "import numpy as np\n",
    "import matplotlib.pyplot as plt\n",
    "import pickle\n",
    "import pkg_resources\n",
    "from collections import Counter"
   ]
  },
  {
   "cell_type": "code",
   "execution_count": 2,
   "outputs": [],
   "source": [
    "# import the categories\n",
    "category_names = pkg_resources.resource_filename('phynteny_utils', 'phrog_annotation_info/integer_category.pkl')\n",
    "categories = pickle.load(open(category_names , 'rb'))\n",
    "\n",
    "# import evlaluations on the test data\n",
    "scores = np.array(pd.read_csv('/home/grig0076/phynteny_thresholding/ex_scores_df.tsv', sep = '\\t', index_col = 0))\n",
    "test_y = np.array(pd.read_csv('/home/grig0076/phynteny_thresholding/ex_test_y_df.tsv', sep = '\\t', index_col = 0))\n",
    "label = np.array([np.argmax(i) for i in test_y])\n",
    "prediction = np.array([np.argmax(score) for idx, score in enumerate(scores)])"
   ],
   "metadata": {
    "collapsed": false,
    "ExecuteTime": {
     "end_time": "2023-06-07T05:17:10.387728633Z",
     "start_time": "2023-06-07T05:17:09.540865382Z"
    }
   }
  },
  {
   "cell_type": "code",
   "execution_count": 3,
   "outputs": [],
   "source": [
    "# generate a joint distribution based on the labels and their predictions \n",
    "\n"
   ],
   "metadata": {
    "collapsed": false,
    "ExecuteTime": {
     "end_time": "2023-06-07T05:17:10.393102588Z",
     "start_time": "2023-06-07T05:17:10.389712799Z"
    }
   }
  },
  {
   "cell_type": "code",
   "execution_count": 4,
   "outputs": [],
   "source": [
    "def count_critical_points(arr):\n",
    "    return np.sum(np.diff(np.sign(np.diff(arr))) != 0)\n",
    "\n",
    "def compute_confidence(scores, confidence_dict):\n",
    "    \"\"\"\n",
    "    Function which computes the confidence of a Phynteny prediction\n",
    "    Input is a vector of Phynteny scores\n",
    "    \"\"\"\n",
    "\n",
    "    # get the prediction for each score\n",
    "    score_predictions = np.array([np.argmax(score) for idx, score in enumerate(scores)])\n",
    "\n",
    "    # make an array to store the confidence of each prediction\n",
    "    confidence_out = np.zeros(len(scores))\n",
    "    predictions_out = np.zeros(len(scores))\n",
    "\n",
    "    # loop through each of potential categories\n",
    "    for i in range(1,10):\n",
    "\n",
    "        # get the scores relevant to the current category\n",
    "        cat_scores = scores[score_predictions == i]\n",
    "\n",
    "        # compute the kernel density estimates\n",
    "        e_TP = np.exp(confidence_dict.get(categories.get(i)).get('kde_TP').score_samples(cat_scores[:,i].reshape(-1,1)))\n",
    "        e_FP = np.exp(confidence_dict.get(categories.get(i)).get('kde_FP').score_samples(cat_scores[:,i].reshape(-1,1)))\n",
    "\n",
    "        # fetch the number of TP and FP\n",
    "        num_TP = confidence_dict.get(categories.get(i)).get('num_TP')\n",
    "        num_FP = confidence_dict.get(categories.get(i)).get('num_FP')\n",
    "\n",
    "        # compute the confidence scores\n",
    "        conf_kde = (e_TP*num_TP)/(e_TP*num_TP + e_FP*num_FP)\n",
    "\n",
    "        # save the scores to the output vector\n",
    "        confidence_out[score_predictions == i ] = conf_kde\n",
    "        predictions_out[score_predictions == i] = [i for k in range(len(conf_kde))]\n",
    "\n",
    "        #print('PHYNTENY')\n",
    "        #print(cat_scores[:,i])\n",
    "        #print('Confidence')\n",
    "        #print(conf_kde)\n",
    "        #print()\n",
    "\n",
    "    return predictions_out, confidence_out\n"
   ],
   "metadata": {
    "collapsed": false,
    "ExecuteTime": {
     "end_time": "2023-06-07T05:17:10.403271517Z",
     "start_time": "2023-06-07T05:17:10.399685917Z"
    }
   }
  },
  {
   "cell_type": "code",
   "execution_count": 5,
   "outputs": [
    {
     "data": {
      "text/plain": "array([3, 4, 8, 5, 4, 7, 3, 4, 4, 3, 4, 7, 3, 3, 3, 5, 9, 8, 7, 6, 9, 8,\n       8, 3, 7, 7, 2, 4, 1, 4, 1, 3, 1, 6, 8, 5, 4, 1, 5, 9])"
     },
     "execution_count": 5,
     "metadata": {},
     "output_type": "execute_result"
    }
   ],
   "source": [],
   "metadata": {
    "collapsed": false,
    "ExecuteTime": {
     "end_time": "2023-06-07T05:17:10.446125179Z",
     "start_time": "2023-06-07T05:17:10.409466325Z"
    }
   }
  },
  {
   "cell_type": "code",
   "execution_count": 12,
   "outputs": [
    {
     "data": {
      "text/plain": "       True  prediction  confidence\n0         7         4.0    0.732839\n1         7         7.0    0.989882\n2         4         4.0    0.994013\n3         4         5.0    0.372925\n4         7         7.0    0.994434\n...     ...         ...         ...\n98434     4         4.0    0.990263\n98435     3         8.0    0.457498\n98436     7         7.0    0.995646\n98437     9         9.0    0.729836\n98438     3         3.0    0.997132\n\n[98439 rows x 3 columns]",
      "text/html": "<div>\n<style scoped>\n    .dataframe tbody tr th:only-of-type {\n        vertical-align: middle;\n    }\n\n    .dataframe tbody tr th {\n        vertical-align: top;\n    }\n\n    .dataframe thead th {\n        text-align: right;\n    }\n</style>\n<table border=\"1\" class=\"dataframe\">\n  <thead>\n    <tr style=\"text-align: right;\">\n      <th></th>\n      <th>True</th>\n      <th>prediction</th>\n      <th>confidence</th>\n    </tr>\n  </thead>\n  <tbody>\n    <tr>\n      <th>0</th>\n      <td>7</td>\n      <td>4.0</td>\n      <td>0.732839</td>\n    </tr>\n    <tr>\n      <th>1</th>\n      <td>7</td>\n      <td>7.0</td>\n      <td>0.989882</td>\n    </tr>\n    <tr>\n      <th>2</th>\n      <td>4</td>\n      <td>4.0</td>\n      <td>0.994013</td>\n    </tr>\n    <tr>\n      <th>3</th>\n      <td>4</td>\n      <td>5.0</td>\n      <td>0.372925</td>\n    </tr>\n    <tr>\n      <th>4</th>\n      <td>7</td>\n      <td>7.0</td>\n      <td>0.994434</td>\n    </tr>\n    <tr>\n      <th>...</th>\n      <td>...</td>\n      <td>...</td>\n      <td>...</td>\n    </tr>\n    <tr>\n      <th>98434</th>\n      <td>4</td>\n      <td>4.0</td>\n      <td>0.990263</td>\n    </tr>\n    <tr>\n      <th>98435</th>\n      <td>3</td>\n      <td>8.0</td>\n      <td>0.457498</td>\n    </tr>\n    <tr>\n      <th>98436</th>\n      <td>7</td>\n      <td>7.0</td>\n      <td>0.995646</td>\n    </tr>\n    <tr>\n      <th>98437</th>\n      <td>9</td>\n      <td>9.0</td>\n      <td>0.729836</td>\n    </tr>\n    <tr>\n      <th>98438</th>\n      <td>3</td>\n      <td>3.0</td>\n      <td>0.997132</td>\n    </tr>\n  </tbody>\n</table>\n<p>98439 rows × 3 columns</p>\n</div>"
     },
     "execution_count": 12,
     "metadata": {},
     "output_type": "execute_result"
    }
   ],
   "source": [
    "predictions, confidence = compute_confidence(scores, confidence_dict)\n",
    "\n",
    "pd.DataFrame({'True': label, 'prediction': predictions, 'confidence': confidence})"
   ],
   "metadata": {
    "collapsed": false,
    "ExecuteTime": {
     "end_time": "2023-06-07T06:17:24.401963301Z",
     "start_time": "2023-06-07T06:15:27.239292867Z"
    }
   }
  },
  {
   "cell_type": "code",
   "execution_count": 7,
   "outputs": [
    {
     "ename": "NameError",
     "evalue": "name 'predictions' is not defined",
     "output_type": "error",
     "traceback": [
      "\u001B[0;31m---------------------------------------------------------------------------\u001B[0m",
      "\u001B[0;31mNameError\u001B[0m                                 Traceback (most recent call last)",
      "Cell \u001B[0;32mIn[7], line 1\u001B[0m\n\u001B[0;32m----> 1\u001B[0m \u001B[43mpredictions\u001B[49m\n",
      "\u001B[0;31mNameError\u001B[0m: name 'predictions' is not defined"
     ]
    }
   ],
   "source": [],
   "metadata": {
    "collapsed": false,
    "ExecuteTime": {
     "end_time": "2023-06-07T06:03:12.632868212Z",
     "start_time": "2023-06-07T06:03:12.616818676Z"
    }
   }
  },
  {
   "cell_type": "code",
   "execution_count": 109,
   "outputs": [],
   "source": [
    "# next write some code to compare and store the labels\n",
    "pd.set_option('display.max_columns', 200)\n",
    "pd.set_option('display.width', 2000)"
   ],
   "metadata": {
    "collapsed": false,
    "ExecuteTime": {
     "end_time": "2023-06-06T05:18:40.534748319Z",
     "start_time": "2023-06-06T05:18:40.488176585Z"
    }
   }
  },
  {
   "cell_type": "code",
   "execution_count": 32,
   "outputs": [
    {
     "data": {
      "text/plain": "array([4, 7, 4, 5, 7, 7, 4, 4, 3, 4, 3, 4, 8, 5, 3, 7, 3, 4, 4, 3, 4, 9,\n       3, 3, 3, 5, 9, 8, 7, 6, 9, 8, 8, 3, 6, 6, 2, 4, 1, 4, 1, 3, 3, 6,\n       8, 5, 4, 1, 5, 9, 4, 4, 2, 9, 9, 7, 7, 8, 3, 3, 4, 8, 8, 9, 7, 3,\n       8, 8, 7, 9, 4, 8, 9, 9, 3, 5, 4, 5, 3, 4, 3, 9, 3, 3, 8, 8, 9, 4,\n       4, 6, 3, 3, 5, 9, 7, 5, 9, 2, 5, 4, 9, 1, 2, 9, 6, 2, 4, 8, 8, 4,\n       7, 1, 3, 8, 6, 8, 8, 3, 9, 5])"
     },
     "execution_count": 32,
     "metadata": {},
     "output_type": "execute_result"
    }
   ],
   "source": [
    "# ideally the confidence should increase as the phynteny score\n",
    "\n",
    "prediction[:120]"
   ],
   "metadata": {
    "collapsed": false,
    "ExecuteTime": {
     "end_time": "2023-06-06T04:52:14.006961270Z",
     "start_time": "2023-06-06T04:52:13.970669635Z"
    }
   }
  },
  {
   "cell_type": "markdown",
   "source": [
    "## Generate the Kernel Density Estimators"
   ],
   "metadata": {
    "collapsed": false
   }
  },
  {
   "cell_type": "code",
   "execution_count": 9,
   "outputs": [],
   "source": [
    "# range of bandwiths to test\n",
    "bandwidth = np.arange(0,5, 0.05)[1:]\n",
    "\n",
    "# range over values to compute kernel density over\n",
    "vals = np.arange(1.5, 10, 0.001)\n",
    "\n",
    "# store the best kernel estimators\n",
    "best_TP_estimators = []\n",
    "best_FP_estimators = []\n",
    "\n",
    "# save a dictionary which contains all the information required to compute confidence scores\n",
    "confidence_dict = dict()\n",
    "\n",
    "# loop through the categories\n",
    "for cat in range(1,10):\n",
    "\n",
    "    # fetch the true labels of the predictions of this category\n",
    "    this_labels = label[prediction == cat]\n",
    "\n",
    "    # fetch the scores associated with these predictions\n",
    "    this_scores = scores[prediction == cat]\n",
    "\n",
    "    # separate false positives and true positives\n",
    "    TP_scores = this_scores[this_labels == cat]\n",
    "    FP_scores = this_scores[this_labels != cat]\n",
    "\n",
    "    # loop through potential bandwidths\n",
    "    for b in bandwidth:\n",
    "\n",
    "        # compute the kernel density\n",
    "        kde_TP = KernelDensity(kernel='gaussian', bandwidth=b)\n",
    "        kde_TP.fit(TP_scores[:, cat].reshape(-1,1))\n",
    "        e_TP = np.exp(kde_TP.score_samples(vals.reshape(-1,1)))\n",
    "\n",
    "        kde_FP = KernelDensity(kernel='gaussian', bandwidth=b)\n",
    "        kde_FP.fit(FP_scores[:, cat].reshape(-1,1))\n",
    "        e_FP = np.exp(kde_FP.score_samples(vals.reshape(-1,1)))\n",
    "\n",
    "        conf_kde = (e_TP*len(TP_scores))/(e_TP*len(TP_scores) + e_FP*len(FP_scores))\n",
    "\n",
    "        if count_critical_points(conf_kde) <= 1:\n",
    "            break\n",
    "\n",
    "    #save the best estimators\n",
    "    confidence_dict[categories.get(cat)] = {\"kde_TP\": kde_TP,\n",
    "                                            \"kde_FP\": kde_FP,\n",
    "                                            \"num_TP\": len(TP_scores),\n",
    "                                            \"num_FP\": len(FP_scores),\n",
    "                                            \"bandwidth\": b}\n",
    "\n",
    "\n",
    "\n"
   ],
   "metadata": {
    "collapsed": false,
    "ExecuteTime": {
     "end_time": "2023-06-07T06:10:47.731808332Z",
     "start_time": "2023-06-07T06:03:40.597102786Z"
    }
   }
  },
  {
   "cell_type": "code",
   "execution_count": 6,
   "outputs": [
    {
     "data": {
      "text/plain": "{4: 'DNA, RNA and nucleotide metabolism',\n 2: 'connector',\n 3: 'head and packaging',\n 1: 'integration and excision',\n 5: 'lysis',\n 6: 'moron, auxiliary metabolic gene and host takeover',\n 7: 'other',\n 8: 'tail',\n 9: 'transcription regulation',\n 0: 'unknown function'}"
     },
     "execution_count": 6,
     "metadata": {},
     "output_type": "execute_result"
    }
   ],
   "source": [
    "categories.get(c)"
   ],
   "metadata": {
    "collapsed": false,
    "ExecuteTime": {
     "end_time": "2023-06-06T04:40:38.400986427Z",
     "start_time": "2023-06-06T04:40:38.359475295Z"
    }
   }
  },
  {
   "cell_type": "code",
   "execution_count": null,
   "outputs": [],
   "source": [
    "confidence_dict"
   ],
   "metadata": {
    "collapsed": false,
    "ExecuteTime": {
     "start_time": "2023-06-06T04:48:15.397299845Z"
    }
   }
  },
  {
   "cell_type": "code",
   "execution_count": null,
   "outputs": [],
   "source": [
    "# Create a data object\n"
   ],
   "metadata": {
    "collapsed": false
   }
  },
  {
   "cell_type": "code",
   "execution_count": null,
   "outputs": [],
   "source": [
    "# this is the code used to generate the estimators. Need different code which can be used in the tool to compute the confidence"
   ],
   "metadata": {
    "collapsed": false
   }
  },
  {
   "cell_type": "code",
   "execution_count": 236,
   "outputs": [],
   "source": [
    "# declare the bandwidth\n",
    "b = 0.48\n",
    "\n",
    "# pull out the instances of a specific label getting prediction\n",
    "cat = 1\n",
    "this_labels = label[prediction == cat]\n",
    "this_scores = scores[prediction == cat]\n",
    "\n",
    "TP_scores = this_scores[this_labels == cat]\n",
    "FP_scores = this_scores[this_labels != cat]\n",
    "\n",
    "vals = np.arange(1.5, 10, 0.01)"
   ],
   "metadata": {
    "collapsed": false,
    "ExecuteTime": {
     "end_time": "2023-06-05T07:06:32.390438417Z",
     "start_time": "2023-06-05T07:06:32.331989236Z"
    }
   }
  },
  {
   "cell_type": "code",
   "execution_count": 237,
   "outputs": [],
   "source": [
    "kde_TP = KernelDensity(kernel='gaussian', bandwidth=b)\n",
    "kde_TP.fit(TP_scores[:, cat].reshape(-1,1))\n",
    "e_TP = np.exp(kde_TP.score_samples(vals.reshape(-1,1)))\n",
    "\n",
    "kde_FP = KernelDensity(kernel='gaussian', bandwidth=b)\n",
    "kde_FP.fit(FP_scores[:, cat].reshape(-1,1))\n",
    "e_FP = np.exp(kde_FP.score_samples(vals.reshape(-1,1)))\n",
    "\n",
    "conf_kde = (e_TP*len(TP_scores))/(e_TP*len(TP_scores) + e_FP*len(FP_scores))"
   ],
   "metadata": {
    "collapsed": false,
    "ExecuteTime": {
     "end_time": "2023-06-05T07:06:33.471307754Z",
     "start_time": "2023-06-05T07:06:33.427192663Z"
    }
   }
  },
  {
   "cell_type": "code",
   "execution_count": 238,
   "outputs": [
    {
     "data": {
      "text/plain": "0"
     },
     "execution_count": 238,
     "metadata": {},
     "output_type": "execute_result"
    }
   ],
   "source": [
    "def count_critical_points(arr):\n",
    "    return np.sum(np.diff(np.sign(np.diff(arr))) != 0)\n",
    "\n",
    "count_critical_points(conf_kde)"
   ],
   "metadata": {
    "collapsed": false,
    "ExecuteTime": {
     "end_time": "2023-06-05T07:06:37.380816547Z",
     "start_time": "2023-06-05T07:06:37.370546279Z"
    }
   }
  },
  {
   "cell_type": "code",
   "execution_count": 239,
   "outputs": [
    {
     "data": {
      "text/plain": "<Figure size 640x480 with 1 Axes>",
      "image/png": "[encoded data removed]"
     },
     "metadata": {},
     "output_type": "display_data"
    },
    {
     "data": {
      "text/plain": "<Figure size 640x480 with 1 Axes>",
      "image/png": "[encoded data removed]"
     },
     "metadata": {},
     "output_type": "display_data"
    }
   ],
   "source": [
    "plt.plot(vals,e_TP)\n",
    "plt.plot(vals, e_FP)\n",
    "plt.show()\n",
    "\n",
    "plt.plot(vals, conf_kde) # blue\n",
    "plt.show()"
   ],
   "metadata": {
    "collapsed": false,
    "ExecuteTime": {
     "end_time": "2023-06-05T07:06:39.651458610Z",
     "start_time": "2023-06-05T07:06:38.771601005Z"
    }
   }
  },
  {
   "cell_type": "code",
   "execution_count": null,
   "outputs": [],
   "source": [
    "# use this confidence estimate as our Phynteny Score\n",
    "\n",
    "# need to generate a grid search for selecting the optimal bandwidth\n",
    "\n",
    "# confidence scores get recalibrated using the kernel density\n",
    "\n",
    "# you can then give the model a confidence estimate\n",
    "\n",
    "# this means that we need to keep the confidence estimators in the model\n",
    "# to find it - snap to the closest score and then compute"
   ],
   "metadata": {
    "collapsed": false
   }
  }
 ],
 "metadata": {
  "kernelspec": {
   "display_name": "Python 3",
   "language": "python",
   "name": "python3"
  },
  "language_info": {
   "codemirror_mode": {
    "name": "ipython",
    "version": 2
   },
   "file_extension": ".py",
   "mimetype": "text/x-python",
   "name": "python",
   "nbconvert_exporter": "python",
   "pygments_lexer": "ipython2",
   "version": "2.7.6"
  }
 },
 "nbformat": 4,
 "nbformat_minor": 0
}
